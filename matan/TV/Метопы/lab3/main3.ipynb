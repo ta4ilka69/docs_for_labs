{
 "cells": [
  {
   "cell_type": "markdown",
   "metadata": {},
   "source": [
    "# Лабораторная $№3$\n",
    "## Вариант $№3$\n",
    "### Выполнил студент группы P3212 Балин Артем"
   ]
  },
  {
   "cell_type": "code",
   "execution_count": 1,
   "metadata": {},
   "outputs": [],
   "source": [
    "from lab3 import square_approximation\n",
    "from util import Printing\n",
    "def f(x):\n",
    "    return (x**4)/4+x**2-8*x+12\n",
    "\n",
    "a = 0\n",
    "b = 2\n",
    "e = 0.0001\n",
    "dx = 1\n",
    "func = square_approximation(a,b,e,f,dx)"
   ]
  },
  {
   "cell_type": "code",
   "execution_count": 2,
   "metadata": {},
   "outputs": [
    {
     "name": "stdout",
     "output_type": "stream",
     "text": [
      "Square approximation method: x =  1.670241078666522\n",
      "f(x) =  3.3733904921575437\n",
      "\n",
      " k  |   x1    |   x2    |   x3    |   f1    |   f2    |   f3    |  xmin   |  Fmin   | Числ.   |Знамен.  |   x*    | f(x*)   | Усл.1   | Усл.2   |\n",
      "-------------------------------------------------------------------------------------------------------------------------------------------------\n",
      " 1  | 0.0000  | 1.0000  | 2.0000  |12.0000  | 5.2500  | 4.0000  | 2.0000  | 4.0000  |-19.0000 |-11.0000 | 1.7273  | 3.3906  | False   | False   |\n",
      " 2  | 1.0000  | 1.7273  | 2.0000  | 5.2500  | 3.3906  | 4.0000  | 1.7273  | 3.3906  |-3.0990  |-1.9007  | 1.6304  | 3.3815  | False   | False   |\n",
      " 3  | 1.0000  | 1.6304  | 1.7273  | 5.2500  | 3.3815  | 3.3906  | 1.6304  | 3.3815  |-0.6225  |-0.3733  | 1.6677  | 3.3734  | False   | False   |\n",
      " 4  | 1.6304  | 1.6677  | 1.7273  | 3.3815  | 3.3734  | 3.3906  | 1.6677  | 3.3734  |-0.0037  |-0.0022  | 1.6699  | 3.3734  |  True   | False   |\n",
      " 5  | 1.6677  | 1.6699  | 1.7273  | 3.3734  | 3.3734  | 3.3906  | 1.6699  | 3.3734  |-0.0001  |-0.0001  | 1.6702  | 3.3734  |  True   | False   |\n",
      " 6  | 1.6699  | 1.6702  | 1.7273  | 3.3734  | 3.3734  | 3.3906  | 1.6702  | 3.3734  |-0.0000  |-0.0000  | 1.6702  | 3.3734  |  True   |  True   |\n"
     ]
    }
   ],
   "source": [
    "S = func.main(a)\n",
    "results = func.result\n",
    "approximation_x = results[-1][-4]\n",
    "approximation_f = results[-1][-3]\n",
    "print(\"Square approximation method: x = \", approximation_x)\n",
    "print(\"f(x) = \", approximation_f)\n",
    "print()\n",
    "answer = Printing(result=results,parameters=[\"x1\",\"x2\",\"x3\",\"f1\",\"f2\",\"f3\",\"xmin\",\"Fmin\",\"Числ.\",\"Знамен.\",\"x*\",\"f(x*)\",\"Усл.1\",\"Усл.2\"])\n",
    "answer.print_result()"
   ]
  }
 ],
 "metadata": {
  "kernelspec": {
   "display_name": "Python 3",
   "language": "python",
   "name": "python3"
  },
  "language_info": {
   "codemirror_mode": {
    "name": "ipython",
    "version": 3
   },
   "file_extension": ".py",
   "mimetype": "text/x-python",
   "name": "python",
   "nbconvert_exporter": "python",
   "pygments_lexer": "ipython3",
   "version": "3.10.5"
  }
 },
 "nbformat": 4,
 "nbformat_minor": 2
}
