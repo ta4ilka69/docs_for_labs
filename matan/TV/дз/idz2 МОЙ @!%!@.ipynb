{
 "cells": [
  {
   "cell_type": "code",
   "execution_count": 126,
   "metadata": {},
   "outputs": [],
   "source": [
    "import numpy as np\n",
    "import matplotlib.pyplot as plt"
   ]
  },
  {
   "cell_type": "markdown",
   "metadata": {},
   "source": [
    "<h1>МОЙ 3 вариант</h1>"
   ]
  },
  {
   "cell_type": "code",
   "execution_count": 127,
   "metadata": {},
   "outputs": [],
   "source": [
    "my = [3, 2, 15, 24, 22, 14, 12, 8]\n",
    "mx = [6,9,23,26,14,22] \n",
    "x = [1.00,1.20,1.40,1.60,1.80,2.00]\n",
    "y = [22.0,22.4,22.8,23.2,23.6,24.0,24.4,24.8]\n",
    "mij = [\n",
    "        [3, 2, 1, 0, 0, 0, 0, 0],\n",
    "        [0, 0, 4, 5, 0, 0, 0, 0], \n",
    "        [0, 0, 10, 7, 6, 0, 0, 0], \n",
    "        [0,0,0,12,9,5,0,0],\n",
    "        [0, 0, 0, 0, 7, 4, 3, 0], \n",
    "        [0, 0, 0, 0, 0, 5, 9, 8], ]\n",
    "n = 100"
   ]
  },
  {
   "cell_type": "markdown",
   "metadata": {},
   "source": [
    "<h1>ПРИМЕР</h1>"
   ]
  },
  {
   "cell_type": "code",
   "execution_count": 128,
   "metadata": {},
   "outputs": [
    {
     "data": {
      "text/plain": [
       "100"
      ]
     },
     "execution_count": 128,
     "metadata": {},
     "output_type": "execute_result"
    }
   ],
   "source": [
    "np.sum(mx)"
   ]
  },
  {
   "cell_type": "code",
   "execution_count": 129,
   "metadata": {},
   "outputs": [
    {
     "name": "stdout",
     "output_type": "stream",
     "text": [
      "6: 6.0\n",
      "9: 10.799999999999999\n",
      "23: 32.199999999999996\n",
      "26: 41.6\n",
      "14: 25.2\n",
      "22: 44.0\n",
      "\n",
      "\n",
      "3: 66.0\n",
      "2: 44.8\n",
      "15: 342.0\n",
      "24: 556.8\n",
      "22: 519.2\n",
      "14: 336.0\n",
      "12: 292.79999999999995\n",
      "8: 198.4\n",
      "159.8 2356.0\n"
     ]
    }
   ],
   "source": [
    "sumx = 0\n",
    "sumy = 0\n",
    "for i in range(len(x)):\n",
    "   sumx+=(mx[i]*x[i])\n",
    "   print(f\"{mx[i]}: {mx[i]*x[i]}\")\n",
    "print(\"\\n\")\n",
    "for i in range(len(y)):\n",
    "   sumy+=(my[i]*y[i])\n",
    "   print(f\"{my[i]}: {my[i]*y[i]}\")\n",
    "\n",
    "print(sumx, sumy)"
   ]
  },
  {
   "cell_type": "code",
   "execution_count": 130,
   "metadata": {},
   "outputs": [
    {
     "name": "stdout",
     "output_type": "stream",
     "text": [
      "3782.24\n"
     ]
    }
   ],
   "source": [
    "ans = 0\n",
    "for i in range(6):\n",
    "   tmp = 0\n",
    "   for j in range(8):\n",
    "      tmp+=mij[i][j]*y[j]\n",
    "   ans+=(x[i]*tmp)\n",
    "print(ans)"
   ]
  },
  {
   "cell_type": "code",
   "execution_count": 131,
   "metadata": {},
   "outputs": [
    {
     "name": "stdout",
     "output_type": "stream",
     "text": [
      "263.96000000000004\n",
      "55552.64\n"
     ]
    }
   ],
   "source": [
    "ans = 0\n",
    "for i in range(6):\n",
    "   ans+=(mx[i]*(x[i]**2))\n",
    "print(ans)\n",
    "ans = 0\n",
    "\n",
    "for j in range(8):\n",
    "   ans+=(my[j]*(y[j]**2))\n",
    "print(ans)"
   ]
  },
  {
   "cell_type": "code",
   "execution_count": 132,
   "metadata": {},
   "outputs": [
    {
     "data": {
      "text/plain": [
       "0.10292929292929291"
      ]
     },
     "execution_count": 132,
     "metadata": {},
     "output_type": "execute_result"
    }
   ],
   "source": [
    "(263-(159**2)/100)/99"
   ]
  },
  {
   "cell_type": "code",
   "execution_count": 133,
   "metadata": {},
   "outputs": [
    {
     "name": "stdout",
     "output_type": "stream",
     "text": [
      "0: 3.0\n",
      "1: 2.0\n",
      "2: 19.8\n",
      "3: 35.0\n",
      "4: 35.4\n",
      "5: 25.2\n",
      "6: 23.4\n",
      "7: 16.0\n"
     ]
    },
    {
     "data": {
      "text/plain": [
       "159.79999999999998"
      ]
     },
     "execution_count": 133,
     "metadata": {},
     "output_type": "execute_result"
    }
   ],
   "source": [
    "ans = 0\n",
    "for j in range(8):\n",
    "      tmp = 0\n",
    "      for i in range(6):\n",
    "            tmp+=mij[i][j]*x[i]\n",
    "      ans+=tmp\n",
    "      print(f\"{j}: {tmp}\")\n",
    "ans\n"
   ]
  },
  {
   "cell_type": "code",
   "execution_count": 134,
   "metadata": {},
   "outputs": [
    {
     "name": "stdout",
     "output_type": "stream",
     "text": [
      "0: 133.6\n",
      "1: 207.2\n",
      "2: 532.0\n",
      "3: 610.8\n",
      "4: 334.40000000000003\n",
      "5: 538.0\n"
     ]
    },
    {
     "data": {
      "text/plain": [
       "2356.0"
      ]
     },
     "execution_count": 134,
     "metadata": {},
     "output_type": "execute_result"
    }
   ],
   "source": [
    "ans = 0\n",
    "for i in range(6):\n",
    "      tmp = 0\n",
    "      for j in range(8):\n",
    "            tmp+=mij[i][j]*y[j]\n",
    "      ans+=tmp\n",
    "      print(f\"{i}: {tmp}\")\n",
    "ans"
   ]
  },
  {
   "cell_type": "code",
   "execution_count": 135,
   "metadata": {},
   "outputs": [
    {
     "name": "stdout",
     "output_type": "stream",
     "text": [
      "0: 6.0\n",
      "1: 12.959999999999999\n",
      "2: 45.07999999999999\n",
      "3: 66.56000000000002\n",
      "4: 45.36\n",
      "5: 88.0\n"
     ]
    },
    {
     "data": {
      "text/plain": [
       "263.96000000000004"
      ]
     },
     "execution_count": 135,
     "metadata": {},
     "output_type": "execute_result"
    }
   ],
   "source": [
    "ans = 0\n",
    "for i in range(6):\n",
    "      tmp = 0\n",
    "      tmp+=((x[i]**2)*mx[i])\n",
    "      ans+=tmp\n",
    "      print(f\"{i}: {tmp}\")\n",
    "ans"
   ]
  },
  {
   "cell_type": "code",
   "execution_count": 136,
   "metadata": {},
   "outputs": [
    {
     "name": "stdout",
     "output_type": "stream",
     "text": [
      "0: 1452.0\n",
      "1: 1003.5199999999999\n",
      "2: 7797.6\n",
      "3: 12917.76\n",
      "4: 12253.12\n",
      "5: 8064.0\n",
      "6: 7144.319999999999\n",
      "7: 4920.320000000001\n"
     ]
    },
    {
     "data": {
      "text/plain": [
       "55552.64"
      ]
     },
     "execution_count": 136,
     "metadata": {},
     "output_type": "execute_result"
    }
   ],
   "source": [
    "ans = 0\n",
    "for j in range(8):\n",
    "      tmp = 0\n",
    "      tmp+=((y[j]**2)*my[j])\n",
    "      ans+=tmp\n",
    "      print(f\"{j}: {tmp}\")\n",
    "ans"
   ]
  },
  {
   "cell_type": "code",
   "execution_count": 137,
   "metadata": {},
   "outputs": [
    {
     "name": "stdout",
     "output_type": "stream",
     "text": [
      "0: 66.0\n",
      "1: 44.8\n",
      "2: 451.44000000000005\n",
      "3: 812.0\n",
      "4: 835.44\n",
      "5: 604.8\n",
      "6: 570.9599999999999\n",
      "7: 396.8\n"
     ]
    },
    {
     "data": {
      "text/plain": [
       "3782.2400000000007"
      ]
     },
     "execution_count": 137,
     "metadata": {},
     "output_type": "execute_result"
    }
   ],
   "source": [
    "ans = 0\n",
    "for j in range(8):\n",
    "      tmp = 0\n",
    "      for i in range(6):\n",
    "            tmp+=mij[i][j]*x[i]\n",
    "      tmp*=y[j]\n",
    "      ans+=tmp\n",
    "      print(f\"{j}: {tmp}\")\n",
    "ans\n"
   ]
  },
  {
   "cell_type": "code",
   "execution_count": 138,
   "metadata": {},
   "outputs": [
    {
     "name": "stdout",
     "output_type": "stream",
     "text": [
      "0: 133.6\n",
      "1: 248.64\n",
      "2: 744.8\n",
      "3: 977.28\n",
      "4: 601.9200000000001\n",
      "5: 1076.0\n"
     ]
    },
    {
     "data": {
      "text/plain": [
       "3782.24"
      ]
     },
     "execution_count": 138,
     "metadata": {},
     "output_type": "execute_result"
    }
   ],
   "source": [
    "ans = 0\n",
    "for i in range(6):\n",
    "      tmp = 0\n",
    "      for j in range(8):\n",
    "            tmp+=mij[i][j]*y[j]\n",
    "      tmp*=x[i]\n",
    "      ans+=tmp\n",
    "      print(f\"{i}: {tmp}\")\n",
    "ans"
   ]
  },
  {
   "cell_type": "code",
   "execution_count": 139,
   "metadata": {},
   "outputs": [
    {
     "data": {
      "text/plain": [
       "0.4573737373737256"
      ]
     },
     "execution_count": 139,
     "metadata": {},
     "output_type": "execute_result"
    }
   ],
   "source": [
    "(55552.64-(2356**2)/100)/99"
   ]
  },
  {
   "cell_type": "code",
   "execution_count": 140,
   "metadata": {},
   "outputs": [
    {
     "data": {
      "text/plain": [
       "0.2762828282828223"
      ]
     },
     "execution_count": 140,
     "metadata": {},
     "output_type": "execute_result"
    }
   ],
   "source": [
    "(3792.24-(159.8*2356)/100)/99"
   ]
  }
 ],
 "metadata": {
  "kernelspec": {
   "display_name": "Python 3",
   "language": "python",
   "name": "python3"
  },
  "language_info": {
   "codemirror_mode": {
    "name": "ipython",
    "version": 3
   },
   "file_extension": ".py",
   "mimetype": "text/x-python",
   "name": "python",
   "nbconvert_exporter": "python",
   "pygments_lexer": "ipython3",
   "version": "3.10.5"
  }
 },
 "nbformat": 4,
 "nbformat_minor": 2
}
