{
 "cells": [
  {
   "cell_type": "code",
   "execution_count": 46,
   "metadata": {},
   "outputs": [],
   "source": [
    "import numpy as np\n",
    "import matplotlib.pyplot as plt"
   ]
  },
  {
   "cell_type": "markdown",
   "metadata": {},
   "source": [
    "<h1>МОЙ 12 вариант</h1>"
   ]
  },
  {
   "cell_type": "code",
   "execution_count": 47,
   "metadata": {},
   "outputs": [],
   "source": [
    "my = [1, 8, 20, 28, 20, 7, 14, 2]\n",
    "mx = [8, 16, 18, 30, 18, 10] \n",
    "x = [10,13,16,19,22,25]\n",
    "y = [110, 130, 150, 170, 190, 210, 230, 250]\n",
    "mij = [[1, 3, 4, 0, 0, 0, 0, 0], [0, 5, 6, 5, 0, 0, 0, 0], [0, 0, 4, 8, 6, 0, 0, 0], \n",
    "[0, 0, 6, 15, 9, 0, 0, 0], [0, 0, 0, 0, 5, 6, 7, 0], [0, 0, 0, 0, 0, 1, 7, 2]]\n",
    "n = 100"
   ]
  },
  {
   "cell_type": "markdown",
   "metadata": {},
   "source": [
    "<h1>ПРИМЕР</h1>"
   ]
  },
  {
   "cell_type": "code",
   "execution_count": 48,
   "metadata": {},
   "outputs": [],
   "source": [
    "my = [2, 4, 9, 24, 26, 19, 11, 5]\n",
    "mx = [23, 25, 26, 13, 8, 5] \n",
    "x = [60, 90, 120, 150, 180, 210]\n",
    "y = [4.5, 6, 7.5, 9, 10.5, 12, 13.5, 15]\n",
    "mij = [[2, 4, 3, 10, 4, 0, 0, 0], [0, 0, 6, 14, 5, 0, 0, 0],\n",
    "[0, 0, 0, 0, 17, 5, 4, 0], [0, 0, 0, 0, 0, 8, 3, 2], [0, 0, 0, 0, 0, 4, 3, 1], [0, 0, 0, 0, 0, 2, 1, 2]]"
   ]
  },
  {
   "cell_type": "code",
   "execution_count": 49,
   "metadata": {},
   "outputs": [
    {
     "data": {
      "text/plain": [
       "100"
      ]
     },
     "execution_count": 49,
     "metadata": {},
     "output_type": "execute_result"
    }
   ],
   "source": [
    "np.sum(mx)"
   ]
  },
  {
   "cell_type": "code",
   "execution_count": 50,
   "metadata": {},
   "outputs": [
    {
     "name": "stdout",
     "output_type": "stream",
     "text": [
      "23: 1380\n",
      "25: 2250\n",
      "26: 3120\n",
      "13: 1950\n",
      "8: 1440\n",
      "5: 1050\n",
      "\n",
      "\n",
      "2: 9.0\n",
      "4: 24\n",
      "9: 67.5\n",
      "24: 216\n",
      "26: 273.0\n",
      "19: 228\n",
      "11: 148.5\n",
      "5: 75\n",
      "11190 1041.0\n"
     ]
    }
   ],
   "source": [
    "sumx = 0\n",
    "sumy = 0\n",
    "for i in range(len(x)):\n",
    "   sumx+=(mx[i]*x[i])\n",
    "   print(f\"{mx[i]}: {mx[i]*x[i]}\")\n",
    "print(\"\\n\")\n",
    "for i in range(len(y)):\n",
    "   sumy+=(my[i]*y[i])\n",
    "   print(f\"{my[i]}: {my[i]*y[i]}\")\n",
    "\n",
    "print(sumx, sumy)"
   ]
  },
  {
   "cell_type": "code",
   "execution_count": 51,
   "metadata": {},
   "outputs": [
    {
     "name": "stdout",
     "output_type": "stream",
     "text": [
      "124245.0\n"
     ]
    }
   ],
   "source": [
    "ans = 0\n",
    "for i in range(6):\n",
    "   tmp = 0\n",
    "   for j in range(8):\n",
    "      tmp+=mij[i][j]*y[j]\n",
    "   ans+=(x[i]*tmp)\n",
    "print(ans)"
   ]
  },
  {
   "cell_type": "code",
   "execution_count": 52,
   "metadata": {},
   "outputs": [
    {
     "name": "stdout",
     "output_type": "stream",
     "text": [
      "1431900\n",
      "11367.0\n"
     ]
    }
   ],
   "source": [
    "ans = 0\n",
    "for i in range(6):\n",
    "   ans+=(mx[i]*(x[i]**2))\n",
    "print(ans)\n",
    "ans = 0\n",
    "\n",
    "for j in range(8):\n",
    "   ans+=(my[j]*(y[j]**2))\n",
    "print(ans)"
   ]
  },
  {
   "cell_type": "code",
   "execution_count": 54,
   "metadata": {},
   "outputs": [
    {
     "data": {
      "text/plain": [
       "1815.5454545454545"
      ]
     },
     "execution_count": 54,
     "metadata": {},
     "output_type": "execute_result"
    }
   ],
   "source": [
    "(1431900-(11190)**2/100)/99"
   ]
  },
  {
   "cell_type": "code",
   "execution_count": 39,
   "metadata": {},
   "outputs": [
    {
     "name": "stdout",
     "output_type": "stream",
     "text": [
      "0: 120\n",
      "1: 240\n",
      "2: 720\n",
      "3: 1860\n",
      "4: 2730\n",
      "5: 2940\n",
      "6: 1680\n",
      "7: 900\n"
     ]
    },
    {
     "data": {
      "text/plain": [
       "11190"
      ]
     },
     "execution_count": 39,
     "metadata": {},
     "output_type": "execute_result"
    }
   ],
   "source": [
    "ans = 0\n",
    "for j in range(8):\n",
    "      tmp = 0\n",
    "      for i in range(6):\n",
    "            tmp+=mij[i][j]*x[i]\n",
    "      ans+=tmp\n",
    "      print(f\"{j}: {tmp}\")\n",
    "ans\n"
   ]
  },
  {
   "cell_type": "code",
   "execution_count": 40,
   "metadata": {},
   "outputs": [
    {
     "name": "stdout",
     "output_type": "stream",
     "text": [
      "0: 187.5\n",
      "1: 223.5\n",
      "2: 292.5\n",
      "3: 166.5\n",
      "4: 103.5\n",
      "5: 67.5\n"
     ]
    },
    {
     "data": {
      "text/plain": [
       "1041.0"
      ]
     },
     "execution_count": 40,
     "metadata": {},
     "output_type": "execute_result"
    }
   ],
   "source": [
    "ans = 0\n",
    "for i in range(6):\n",
    "      tmp = 0\n",
    "      for j in range(8):\n",
    "            tmp+=mij[i][j]*y[j]\n",
    "      ans+=tmp\n",
    "      print(f\"{i}: {tmp}\")\n",
    "ans"
   ]
  },
  {
   "cell_type": "code",
   "execution_count": 41,
   "metadata": {},
   "outputs": [
    {
     "name": "stdout",
     "output_type": "stream",
     "text": [
      "0: 82800\n",
      "1: 202500\n",
      "2: 374400\n",
      "3: 292500\n",
      "4: 259200\n",
      "5: 220500\n"
     ]
    },
    {
     "data": {
      "text/plain": [
       "1431900"
      ]
     },
     "execution_count": 41,
     "metadata": {},
     "output_type": "execute_result"
    }
   ],
   "source": [
    "ans = 0\n",
    "for i in range(6):\n",
    "      tmp = 0\n",
    "      tmp+=((x[i]**2)*mx[i])\n",
    "      ans+=tmp\n",
    "      print(f\"{i}: {tmp}\")\n",
    "ans"
   ]
  },
  {
   "cell_type": "code",
   "execution_count": 42,
   "metadata": {},
   "outputs": [
    {
     "name": "stdout",
     "output_type": "stream",
     "text": [
      "0: 40.5\n",
      "1: 144\n",
      "2: 506.25\n",
      "3: 1944\n",
      "4: 2866.5\n",
      "5: 2736\n",
      "6: 2004.75\n",
      "7: 1125\n"
     ]
    },
    {
     "data": {
      "text/plain": [
       "11367.0"
      ]
     },
     "execution_count": 42,
     "metadata": {},
     "output_type": "execute_result"
    }
   ],
   "source": [
    "ans = 0\n",
    "for j in range(8):\n",
    "      tmp = 0\n",
    "      tmp+=((y[j]**2)*my[j])\n",
    "      ans+=tmp\n",
    "      print(f\"{j}: {tmp}\")\n",
    "ans"
   ]
  },
  {
   "cell_type": "code",
   "execution_count": 43,
   "metadata": {},
   "outputs": [
    {
     "name": "stdout",
     "output_type": "stream",
     "text": [
      "0: 540.0\n",
      "1: 1440\n",
      "2: 5400.0\n",
      "3: 16740\n",
      "4: 28665.0\n",
      "5: 35280\n",
      "6: 22680.0\n",
      "7: 13500\n"
     ]
    },
    {
     "data": {
      "text/plain": [
       "124245.0"
      ]
     },
     "execution_count": 43,
     "metadata": {},
     "output_type": "execute_result"
    }
   ],
   "source": [
    "ans = 0\n",
    "for j in range(8):\n",
    "      tmp = 0\n",
    "      for i in range(6):\n",
    "            tmp+=mij[i][j]*x[i]\n",
    "      tmp*=y[j]\n",
    "      ans+=tmp\n",
    "      print(f\"{j}: {tmp}\")\n",
    "ans\n"
   ]
  },
  {
   "cell_type": "code",
   "execution_count": 44,
   "metadata": {},
   "outputs": [
    {
     "name": "stdout",
     "output_type": "stream",
     "text": [
      "0: 11250.0\n",
      "1: 20115.0\n",
      "2: 35100.0\n",
      "3: 24975.0\n",
      "4: 18630.0\n",
      "5: 14175.0\n"
     ]
    },
    {
     "data": {
      "text/plain": [
       "124245.0"
      ]
     },
     "execution_count": 44,
     "metadata": {},
     "output_type": "execute_result"
    }
   ],
   "source": [
    "ans = 0\n",
    "for i in range(6):\n",
    "      tmp = 0\n",
    "      for j in range(8):\n",
    "            tmp+=mij[i][j]*y[j]\n",
    "      tmp*=x[i]\n",
    "      ans+=tmp\n",
    "      print(f\"{i}: {tmp}\")\n",
    "ans"
   ]
  },
  {
   "cell_type": "code",
   "execution_count": 45,
   "metadata": {},
   "outputs": [
    {
     "data": {
      "text/plain": [
       "0.8365350574819727"
      ]
     },
     "execution_count": 45,
     "metadata": {},
     "output_type": "execute_result"
    }
   ],
   "source": [
    "112.24/(4.25*31.57)"
   ]
  }
 ],
 "metadata": {
  "kernelspec": {
   "display_name": "Python 3",
   "language": "python",
   "name": "python3"
  },
  "language_info": {
   "codemirror_mode": {
    "name": "ipython",
    "version": 3
   },
   "file_extension": ".py",
   "mimetype": "text/x-python",
   "name": "python",
   "nbconvert_exporter": "python",
   "pygments_lexer": "ipython3",
   "version": "3.10.5"
  }
 },
 "nbformat": 4,
 "nbformat_minor": 2
}
