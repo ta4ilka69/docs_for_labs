{
 "cells": [
  {
   "cell_type": "markdown",
   "metadata": {},
   "source": [
    "# Лабораторная $№2$\n",
    "## Вариант $№3$\n",
    "### Выполнил студент группы P3212 Балин Артем"
   ]
  },
  {
   "cell_type": "code",
   "execution_count": 8,
   "metadata": {},
   "outputs": [],
   "source": [
    "from lab2 import *\n",
    "\n",
    "def f(x):\n",
    "    return (x**4)/4+x**2-8*x+12\n",
    "def f_x(x):\n",
    "    return x**3+2*x-8\n",
    "def f_xx(x):\n",
    "    return 3*x**2+2\n",
    "a = 0\n",
    "b = 2\n",
    "e = 0.05\n",
    "func = function(a,b,e,f, f_x, f_xx)"
   ]
  },
  {
   "cell_type": "code",
   "execution_count": 9,
   "metadata": {},
   "outputs": [
    {
     "name": "stdout",
     "output_type": "stream",
     "text": [
      "Bisecting method: x =  1.63984375\n",
      "f(x) =  3.3781354529039014\n",
      "\n",
      " k  |   a     |   b     |   x1    |   x2    | f(x1)   | f(x2)   |   x     |  f(x)   |\n",
      "-------------------------------------------------------------------------------------\n",
      " 1  | 0.0000  | 2.0000  | 0.9750  | 1.0250  | 5.3765  | 5.1266  | 1.0000  | 5.2500  |\n",
      " 2  | 0.9750  | 2.0000  | 1.4625  | 1.5125  | 3.5826  | 3.4960  | 1.4875  | 3.5366  |\n",
      " 3  | 1.4625  | 2.0000  | 1.7063  | 1.7563  | 3.3802  | 3.4128  | 1.7313  | 3.3931  |\n",
      " 4  | 1.4625  | 1.7563  | 1.5844  | 1.6344  | 3.4106  | 3.3800  | 1.6094  | 3.3922  |\n",
      " 5  | 1.5844  | 1.7563  | 1.6453  | 1.6953  | 3.3766  | 3.3767  | 1.6703  | 3.3734  |\n",
      " 6  | 1.5844  | 1.6953  | 1.6148  | 1.6648  | 3.3890  | 3.3735  | 1.6398  | 3.3781  |\n"
     ]
    }
   ],
   "source": [
    "\n",
    "bisecting_res = func.bisecting()\n",
    "bisecting_x = bisecting_res.result[-1][6]\n",
    "print(\"Bisecting method: x = \", bisecting_x)\n",
    "print(\"f(x) = \", f(bisecting_x))\n",
    "print()\n",
    "bisecting_res.print_result()"
   ]
  },
  {
   "cell_type": "code",
   "execution_count": 10,
   "metadata": {},
   "outputs": [
    {
     "name": "stdout",
     "output_type": "stream",
     "text": [
      "Golden section method: x =  1.652438064\n",
      "f(x) =  3.375024992470429\n",
      "\n",
      " k  |   a     |   b     |   x1    |   x2    | f(x1)   | f(x2)   |   x     |  f(x)   |\n",
      "-------------------------------------------------------------------------------------\n",
      " 1  | 0.0000  | 2.0000  | 0.7640  | 1.2360  | 6.5569  | 4.2232  | 1.0000  | 5.2500  |\n",
      " 2  | 0.7640  | 2.0000  | 1.2360  | 1.5278  | 4.2232  | 3.4738  | 1.3820  | 3.7659  |\n",
      " 3  | 1.2360  | 2.0000  | 1.5278  | 1.7082  | 3.4738  | 3.3809  | 1.6180  | 3.3873  |\n",
      " 4  | 1.5278  | 2.0000  | 1.7082  | 1.8196  | 3.3809  | 3.4948  | 1.7639  | 3.4203  |\n",
      " 5  | 1.5278  | 1.8196  | 1.6393  | 1.7082  | 3.3783  | 3.3809  | 1.6737  | 3.3735  |\n",
      " 6  | 1.5278  | 1.7082  | 1.5967  | 1.6393  | 3.4008  | 3.3783  | 1.6180  | 3.3873  |\n",
      " 7  | 1.5967  | 1.7082  | 1.6393  | 1.6656  | 3.3783  | 3.3735  | 1.6524  | 3.3750  |\n"
     ]
    }
   ],
   "source": [
    "golden_res = func.gold_section()\n",
    "golden_x = golden_res.result[-1][6]\n",
    "print(\"Golden section method: x = \", golden_x)\n",
    "print(\"f(x) = \", f(golden_x))\n",
    "print()\n",
    "golden_res.print_result()"
   ]
  },
  {
   "cell_type": "code",
   "execution_count": 11,
   "metadata": {},
   "outputs": [
    {
     "name": "stdout",
     "output_type": "stream",
     "text": [
      "Chords method: x =  1.6691054537094632\n",
      "f(x) =  3.3733972185530625\n",
      "\n",
      " k  |   a     |   b     | f'(a)   | f'(b)   |   x     | f'(x)   |  f(x)   |\n",
      "---------------------------------------------------------------------------\n",
      " 1  | 0.0000  | 2.0000  |-8.0000  | 4.0000  | 1.3333  |-2.9630  | 3.9012  |\n",
      " 2  | 1.3333  | 2.0000  |-2.9630  | 4.0000  | 1.6170  |-0.5378  | 3.3878  |\n",
      " 3  | 1.6170  | 2.0000  |-0.5378  | 4.0000  | 1.6624  |-0.0809  | 3.3737  |\n",
      " 4  | 1.6624  | 2.0000  |-0.0809  | 4.0000  | 1.6691  |-0.0118  | 3.3734  |\n"
     ]
    }
   ],
   "source": [
    "chords_res = func.chord()\n",
    "chords_x = chords_res.result[-1][-3]\n",
    "print(\"Chords method: x = \", chords_x)\n",
    "print(\"f(x) = \", f(chords_x))\n",
    "print()\n",
    "chords_res.print_result()"
   ]
  },
  {
   "cell_type": "code",
   "execution_count": 12,
   "metadata": {},
   "outputs": [
    {
     "name": "stdout",
     "output_type": "stream",
     "text": [
      "Newton method: x =  1.6711590296495957\n",
      "f(x) =  3.373394827694206\n",
      "\n",
      " k  |   x     | f'(x)   | f''(x)  |  f(x)   |\n",
      "---------------------------------------------\n",
      " 1  | 1.0000  |-5.0000  | 5.0000  | 4.0000  |\n",
      " 2  | 2.0000  | 4.0000  |14.0000  | 3.3836  |\n",
      " 3  | 1.7143  | 0.4665  |10.8163  | 3.3734  |\n",
      " 4  | 1.6712  | 0.0095  |10.3783  | 3.3734  |\n"
     ]
    }
   ],
   "source": [
    "newton_res = func.newton()\n",
    "newton_x = newton_res.result[-1][0]\n",
    "print(\"Newton method: x = \", newton_x)\n",
    "print(\"f(x) = \", f(newton_x))\n",
    "print()\n",
    "newton_res.print_result()"
   ]
  }
 ],
 "metadata": {
  "kernelspec": {
   "display_name": "Python 3",
   "language": "python",
   "name": "python3"
  },
  "language_info": {
   "codemirror_mode": {
    "name": "ipython",
    "version": 3
   },
   "file_extension": ".py",
   "mimetype": "text/x-python",
   "name": "python",
   "nbconvert_exporter": "python",
   "pygments_lexer": "ipython3",
   "version": "3.10.5"
  }
 },
 "nbformat": 4,
 "nbformat_minor": 2
}
