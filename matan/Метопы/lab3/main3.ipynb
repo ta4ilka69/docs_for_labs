{
 "cells": [
  {
   "cell_type": "markdown",
   "metadata": {},
   "source": [
    "# Лабораторная $№3$\n",
    "## Вариант $№3$\n",
    "### Выполнил студент группы P3212 Балин Артем"
   ]
  },
  {
   "cell_type": "code",
   "execution_count": 3,
   "metadata": {},
   "outputs": [],
   "source": [
    "from lab3 import square_approximation\n",
    "from util import Printing\n",
    "def f(x):\n",
    "    return (x**4)/4+x**2-8*x+12\n",
    "\n",
    "a = 0\n",
    "b = 2\n",
    "e = 0.0001\n",
    "dx = 0.5\n",
    "func = square_approximation(a,b,e,f,dx)"
   ]
  },
  {
   "cell_type": "code",
   "execution_count": 4,
   "metadata": {},
   "outputs": [
    {
     "name": "stdout",
     "output_type": "stream",
     "text": [
      "Square approximation method: x =  1.6301716502976378\n",
      "f(x) =  3.3816093009964625\n",
      "\n",
      " k  |   x1    |   x2    |   x3    |   f1    |   f2    |   f3    |  xmin   |  Fmin   | Числ.   |Знамен.  |   x*    | f(x*)   | Усл.1   | Усл.2   |\n",
      "-------------------------------------------------------------------------------------------------------------------------------------------------\n",
      " 1  | 0.0000  | 0.5000  | 1.0000  |12.0000  | 8.2656  | 5.2500  | 1.0000  | 5.2500  |-2.0469  |-0.7188  | 2.8478  |13.7710  | False   | False   |\n",
      " 2  | 2.8478  | 3.3478  | 2.3478  |13.7710  |27.8298  | 6.3260  | 2.3478  | 6.3260  |-13.4591 |-6.6138  | 2.0350  | 4.1486  | False   | False   |\n",
      " 3  | 2.0350  | 2.5350  | 1.5350  | 4.1486  | 8.4702  | 3.4642  | 1.5350  | 3.4642  |-6.1501  |-3.6371  | 1.6909  | 3.3756  | False   | False   |\n",
      " 4  | 1.6909  | 2.1909  | 1.1909  | 3.3756  | 5.0330  | 4.3939  | 1.6909  | 3.3756  |-4.3644  |-2.6756  | 1.6312  | 3.3812  | False   | False   |\n",
      " 5  | 1.6312  | 2.1312  | 1.1312  | 3.3812  | 4.6498  | 4.6394  | 1.6312  | 3.3812  |-4.1191  |-2.5268  | 1.6302  | 3.3816  | False   | False   |\n",
      " 6  | 1.6302  | 2.1302  | 1.1302  | 3.3816  | 4.6437  | 4.6438  | 1.6302  | 3.3816  |-4.1151  |-2.5243  | 1.6302  | 3.3816  |  True   |  True   |\n"
     ]
    }
   ],
   "source": [
    "S = func.main(a)\n",
    "results = func.result\n",
    "approximation_x = results[-1][-4]\n",
    "approximation_f = results[-1][-3]\n",
    "print(\"Square approximation method: x = \", approximation_x)\n",
    "print(\"f(x) = \", approximation_f)\n",
    "print()\n",
    "answer = Printing(result=results,parameters=[\"x1\",\"x2\",\"x3\",\"f1\",\"f2\",\"f3\",\"xmin\",\"Fmin\",\"Числ.\",\"Знамен.\",\"x*\",\"f(x*)\",\"Усл.1\",\"Усл.2\"])\n",
    "answer.print_result()"
   ]
  }
 ],
 "metadata": {
  "kernelspec": {
   "display_name": "Python 3",
   "language": "python",
   "name": "python3"
  },
  "language_info": {
   "codemirror_mode": {
    "name": "ipython",
    "version": 3
   },
   "file_extension": ".py",
   "mimetype": "text/x-python",
   "name": "python",
   "nbconvert_exporter": "python",
   "pygments_lexer": "ipython3",
   "version": "3.10.5"
  }
 },
 "nbformat": 4,
 "nbformat_minor": 2
}
