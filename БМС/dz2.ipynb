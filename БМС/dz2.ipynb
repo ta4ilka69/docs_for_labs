{
 "cells": [
  {
   "cell_type": "markdown",
   "metadata": {},
   "source": [
    "# ДЗ 2\n",
    "## Продукт\n",
    "Вино \"Artemide\"\n",
    "## Товарный знак\n",
    "![Image](1.png)\n",
    "#### комбинированный товарный знак\n",
    "## Сфера применения\n",
    "Продажа алкогольной продукции в розницу, оптом, на разлив\n",
    "## Класс МКТУ - 33"
   ]
  }
 ],
 "metadata": {
  "language_info": {
   "name": "python"
  }
 },
 "nbformat": 4,
 "nbformat_minor": 2
}
